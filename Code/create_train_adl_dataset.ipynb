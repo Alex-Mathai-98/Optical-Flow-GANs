{
 "cells": [
  {
   "cell_type": "code",
   "execution_count": 1,
   "metadata": {},
   "outputs": [],
   "source": [
    "import torch\n",
    "import numpy as np\n",
    "import cv2\n",
    "import h5py\n",
    "import pickle"
   ]
  },
  {
   "cell_type": "code",
   "execution_count": 2,
   "metadata": {},
   "outputs": [],
   "source": [
    "def convert_polar(l):\n",
    "    '''Cartesian to Polar Co-ordinates. The Radius and Angle is normalized between 0 and 1.\n",
    "    \n",
    "    Arguments:\n",
    "    \n",
    "    l : np.array\n",
    "        Normal numpy array with RGB Pixel values\n",
    "    \n",
    "    Returns:\n",
    "    \n",
    "    hsv : np.array\n",
    "          Array with polar co-ordinates\n",
    "    '''\n",
    "    hsv = np.zeros((l.shape[0], l.shape[1], l.shape[2], 2), dtype=np.float32)\n",
    "    flow_magnitude, flow_angle = cv2.cartToPolar(l[..., 0].astype(np.float32), l[..., 1].astype(np.float32))\n",
    "    nans = np.isnan(flow_magnitude)\n",
    "    if np.any(nans):\n",
    "        nans = np.where(nans)\n",
    "        flow_magnitude[nans] = 0.\n",
    "    hsv[..., 0] = flow_angle/(2.0*np.pi)\n",
    "    hsv[..., 1] = cv2.normalize(flow_magnitude, None, 0, 1, cv2.NORM_MINMAX)\n",
    "    return hsv"
   ]
  },
  {
   "cell_type": "code",
   "execution_count": 5,
   "metadata": {},
   "outputs": [
    {
     "name": "stdout",
     "output_type": "stream",
     "text": [
      "(148, 240, 320, 2)\n",
      "(326, 240, 320, 2)\n",
      "(504, 240, 320, 2)\n",
      "(652, 240, 320, 2)\n",
      "(830, 240, 320, 2)\n",
      "(1058, 240, 320, 2)\n",
      "(1236, 240, 320, 2)\n",
      "(1414, 240, 320, 2)\n",
      "(1562, 240, 320, 2)\n",
      "(1860, 240, 320, 2)\n",
      "(2158, 240, 320, 2)\n",
      "(2406, 240, 320, 2)\n",
      "(2669, 240, 320, 2)\n",
      "(2902, 240, 320, 2)\n",
      "(3175, 240, 320, 2)\n",
      "(3413, 240, 320, 2)\n",
      "(3641, 240, 320, 2)\n",
      "(3904, 240, 320, 2)\n",
      "(4152, 240, 320, 2)\n",
      "(4420, 240, 320, 2)\n",
      "(4698, 240, 320, 2)\n",
      "(4936, 240, 320, 2)\n",
      "(5154, 240, 320, 2)\n",
      "(5222, 240, 320, 2)\n",
      "(5330, 240, 320, 2)\n",
      "(5423, 240, 320, 2)\n",
      "(5521, 240, 320, 2)\n",
      "(5604, 240, 320, 2)\n",
      "(5727, 240, 320, 2)\n",
      "(6125, 240, 320, 2)\n",
      "(6373, 240, 320, 2)\n",
      "(6571, 240, 320, 2)\n",
      "(6769, 240, 320, 2)\n",
      "(6958, 240, 320, 2)\n",
      "(7236, 240, 320, 2)\n",
      "(7574, 240, 320, 2)\n",
      "(7922, 240, 320, 2)\n",
      "(8265, 240, 320, 2)\n",
      "(8533, 240, 320, 2)\n"
     ]
    }
   ],
   "source": [
    "# Creating the combined numpy array for hdf5 files\n",
    "size = []\n",
    "for i in range(40):\n",
    "    x = np.load(f'./train_data/adl-{i+1:02d}.npy')\n",
    "    temp = convert_polar(x)\n",
    "    if i==0:\n",
    "        l = temp\n",
    "    else:\n",
    "        print(l.shape)\n",
    "        l = np.concatenate([l,temp],axis=0)\n",
    "    size.append(x.shape[0])"
   ]
  },
  {
   "cell_type": "code",
   "execution_count": 6,
   "metadata": {},
   "outputs": [],
   "source": [
    "with h5py.File('adl_dataset.hdf5', 'w') as f:\n",
    "    dset = f.create_dataset(\"default\", data=l)"
   ]
  },
  {
   "cell_type": "code",
   "execution_count": 7,
   "metadata": {},
   "outputs": [],
   "source": [
    "index = []\n",
    "count=0\n",
    "for s in size:\n",
    "    for i in range(s-9):\n",
    "        index.append(count+i)\n",
    "    count=index[-1]+10"
   ]
  },
  {
   "cell_type": "code",
   "execution_count": 8,
   "metadata": {},
   "outputs": [],
   "source": [
    "with open(\"adl_indices.pkl\",\"wb\") as f:\n",
    "    pickle.dump(index, f)"
   ]
  },
  {
   "cell_type": "code",
   "execution_count": 10,
   "metadata": {},
   "outputs": [],
   "source": [
    "l = None\n",
    "dset = None\n",
    "index = None"
   ]
  }
 ],
 "metadata": {
  "kernelspec": {
   "display_name": "Python 3",
   "language": "python",
   "name": "python3"
  },
  "language_info": {
   "codemirror_mode": {
    "name": "ipython",
    "version": 3
   },
   "file_extension": ".py",
   "mimetype": "text/x-python",
   "name": "python",
   "nbconvert_exporter": "python",
   "pygments_lexer": "ipython3",
   "version": "3.6.6"
  }
 },
 "nbformat": 4,
 "nbformat_minor": 2
}
