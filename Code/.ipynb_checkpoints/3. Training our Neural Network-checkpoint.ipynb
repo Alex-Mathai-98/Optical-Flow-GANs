{
 "cells": [
  {
   "cell_type": "markdown",
   "metadata": {},
   "source": [
    "# Training Neural Networks\n",
    "\n",
    "The network we built in the previous part isn't so smart, it doesn't know anything about our handwritten digits. Neural networks with non-linear activations work like universal function approximators. There is some function that maps your input to the output. For example, images of handwritten digits to class probabilities. The power of neural networks is that we can train them to approximate this function, and basically any function given enough data and compute time.\n",
    "\n",
    "<img src=\"assets/function_approx.png\" width=500px>\n",
    "\n",
    "At first the network is naive, it doesn't know the function mapping the inputs to the outputs. We train the network by showing it examples of real data, then adjusting the network parameters such that it approximates this function.\n",
    "\n",
    "To find these parameters, we need to know how poorly the network is predicting the real outputs. For this we calculate a **loss function** (also called the cost), a measure of our prediction error. For example, the mean squared loss is often used in regression and binary classification problems\n",
    "\n",
    "$$\n",
    "\\large \\ell = \\frac{1}{2n}\\sum_i^n{\\left(y_i - \\hat{y}_i\\right)^2}\n",
    "$$\n",
    "\n",
    "where $n$ is the number of training examples, $y_i$ are the true labels, and $\\hat{y}_i$ are the predicted labels.\n",
    "\n",
    "By minimizing this loss with respect to the network parameters, we can find configurations where the loss is at a minimum and the network is able to predict the correct labels with high accuracy. We find this minimum using a process called **gradient descent**. The gradient is the slope of the loss function and points in the direction of fastest change. To get to the minimum in the least amount of time, we then want to follow the gradient (downwards). You can think of this like descending a mountain by following the steepest slope to the base.\n",
    "\n",
    "<img src='assets/gradient_descent.png' width=350px>"
   ]
  },
  {
   "cell_type": "markdown",
   "metadata": {},
   "source": [
    "## Backpropagation\n",
    "\n",
    "For single layer networks, gradient descent is straightforward to implement. However, it's more complicated for deeper, multilayer neural networks like the one we've built. Complicated enough that it took about 30 years before researchers figured out how to train multilayer networks.\n",
    "\n",
    "Training multilayer networks is done through **backpropagation** which is really just an application of the chain rule from calculus. It's easiest to understand if we convert a two layer network into a graph representation.\n",
    "\n",
    "<img src='assets/backprop_diagram.png' width=550px>\n",
    "\n",
    "In the forward pass through the network, our data and operations go from bottom to top here. We pass the input $x$ through a linear transformation $L_1$ with weights $W_1$ and biases $b_1$. The output then goes through the sigmoid operation $S$ and another linear transformation $L_2$. Finally we calculate the loss $\\ell$. We use the loss as a measure of how bad the network's predictions are. The goal then is to adjust the weights and biases to minimize the loss.\n",
    "\n",
    "To train the weights with gradient descent, we propagate the gradient of the loss backwards through the network. Each operation has some gradient between the inputs and outputs. As we send the gradients backwards, we multiply the incoming gradient with the gradient for the operation. Mathematically, this is really just calculating the gradient of the loss with respect to the weights using the chain rule.\n",
    "\n",
    "$$\n",
    "\\large \\frac{\\partial \\ell}{\\partial W_1} = \\frac{\\partial L_1}{\\partial W_1} \\frac{\\partial S}{\\partial L_1} \\frac{\\partial L_2}{\\partial S} \\frac{\\partial \\ell}{\\partial L_2}\n",
    "$$\n",
    "\n",
    "**Note:** I'm glossing over a few details here that require some knowledge of vector calculus, but they aren't necessary to understand what's going on.\n",
    "\n",
    "We update our weights using this gradient with some learning rate $\\alpha$. \n",
    "\n",
    "$$\n",
    "\\large W^\\prime_1 = W_1 - \\alpha \\frac{\\partial \\ell}{\\partial W_1}\n",
    "$$\n",
    "\n",
    "The learning rate $\\alpha$ is set such that the weight update steps are small enough that the iterative method settles in a minimum."
   ]
  },
  {
   "cell_type": "markdown",
   "metadata": {},
   "source": [
    "For neural networks, we usually use loss to asses how well the network has learned to classify the input image(or other tasks). The loss term is usually a scalar value. In order to update the parameters of the network, we need to calculate the gradient of loss w.r.t to the parameters, which is actually leaf node in the computation graph (by the way, these parameters are mostly the weight and bias of various layers such Convolution, Linear and so on).\n",
    "\n",
    "According to chain rule, in order to calculate gradient of loss w.r.t to a leaf node, we can compute derivative of loss w.r.t some intermediate variable, and gradient of intermediate variable w.r.t to the leaf variable, do a dot product and sum all these up.\n",
    "\n",
    "The gradient arguments of a Variable's backward() method is used to calculate a weighted sum of each element of a Variable w.r.t the leaf Variable. These weight is just the derivate of final loss w.r.t each element of the intermediate variable."
   ]
  },
  {
   "cell_type": "markdown",
   "metadata": {},
   "source": [
    "## Losses in PyTorch\n",
    "\n",
    "Let's start by seeing how we calculate the loss with PyTorch. Through the `nn` module, PyTorch provides losses such as the cross-entropy loss (`nn.CrossEntropyLoss`). You'll usually see the loss assigned to `criterion`. As noted in the last part, with a classification problem such as MNIST, we're using the softmax function to predict class probabilities. With a softmax output, you want to use cross-entropy as the loss. To actually calculate the loss, you first define the criterion then pass in the output of your network and the correct labels.\n",
    "\n",
    "Something really important to note here. Looking at [the documentation for `nn.CrossEntropyLoss`](https://pytorch.org/docs/stable/nn.html#torch.nn.CrossEntropyLoss),\n",
    "\n",
    "> This criterion combines `nn.LogSoftmax()` and `nn.NLLLoss()` in one single class.\n",
    ">\n",
    "> The input is expected to contain scores for each class.\n",
    "\n",
    "This means we need to pass in the raw output of our network into the loss, not the output of the softmax function. This raw output is usually called the *logits* or *scores*. We use the logits because softmax gives you probabilities which will often be very close to zero or one but floating-point numbers can't accurately represent values near zero or one ([read more here](https://docs.python.org/3/tutorial/floatingpoint.html)). It's usually best to avoid doing calculations with probabilities, typically we use log-probabilities."
   ]
  },
  {
   "cell_type": "code",
   "execution_count": 50,
   "metadata": {},
   "outputs": [],
   "source": [
    "import torch\n",
    "from torch import nn\n",
    "import torch.nn.functional as F\n",
    "from torchvision import datasets, transforms\n",
    "\n",
    "# Define a transform to normalize the data\n",
    "transform = transforms.Compose([transforms.ToTensor(),\n",
    "                                transforms.Normalize((0.5, 0.5, 0.5), (0.5, 0.5, 0.5)),\n",
    "                              ])\n",
    "# Download and load the training data\n",
    "trainset = datasets.MNIST('~/.pytorch/MNIST_data/', download=True, train=True, transform=transform)\n",
    "trainloader = torch.utils.data.DataLoader(trainset, batch_size=64, shuffle=True)"
   ]
  },
  {
   "cell_type": "code",
   "execution_count": 51,
   "metadata": {},
   "outputs": [
    {
     "name": "stdout",
     "output_type": "stream",
     "text": [
      "tensor(2.3148, grad_fn=<NllLossBackward>)\n"
     ]
    }
   ],
   "source": [
    "# Build a feed-forward network\n",
    "model = nn.Sequential(nn.Linear(784, 128),\n",
    "                      nn.ReLU(),\n",
    "                      nn.Linear(128, 64),\n",
    "                      nn.ReLU(),\n",
    "                      nn.Linear(64, 10))\n",
    "\n",
    "# Define the loss\n",
    "criterion = nn.CrossEntropyLoss()\n",
    "\n",
    "# Get our data\n",
    "images, labels = next(iter(trainloader))\n",
    "# Flatten images\n",
    "images = images.view(images.shape[0], -1)\n",
    "\n",
    "# Forward pass, get our logits\n",
    "logits = model(images)\n",
    "# Calculate the loss with the logits and the labels\n",
    "loss = criterion(logits, labels)\n",
    "\n",
    "print(loss)"
   ]
  },
  {
   "cell_type": "markdown",
   "metadata": {},
   "source": [
    "In my experience it's more convenient to build the model with a log-softmax output using `nn.LogSoftmax` or `F.log_softmax` ([documentation](https://pytorch.org/docs/stable/nn.html#torch.nn.LogSoftmax)). Then you can get the actual probabilites by taking the exponential `torch.exp(output)`. With a log-softmax output, you want to use the negative log likelihood loss, `nn.NLLLoss` ([documentation](https://pytorch.org/docs/stable/nn.html#torch.nn.NLLLoss)).\n",
    "\n",
    ">**Exercise:** Build a model that returns the log-softmax as the output and calculate the loss using the negative log likelihood loss."
   ]
  },
  {
   "cell_type": "code",
   "execution_count": 52,
   "metadata": {},
   "outputs": [
    {
     "name": "stdout",
     "output_type": "stream",
     "text": [
      "tensor(2.3272, grad_fn=<NllLossBackward>)\n"
     ]
    }
   ],
   "source": [
    "## Solution\n",
    "\n",
    "# Build a feed-forward network\n",
    "model = nn.Sequential(nn.Linear(784, 128),\n",
    "                      nn.ReLU(),\n",
    "                      nn.Linear(128, 64),\n",
    "                      nn.ReLU(),\n",
    "                      nn.Linear(64, 10),\n",
    "                      nn.LogSoftmax(dim=1))\n",
    "\n",
    "# Define the loss\n",
    "criterion = nn.NLLLoss()\n",
    "\n",
    "# Get our data\n",
    "images, labels = next(iter(trainloader))\n",
    "# Flatten images\n",
    "images = images.view(images.shape[0], -1)\n",
    "\n",
    "# Forward pass, get our log-probabilities\n",
    "logps = model(images)\n",
    "# Calculate the loss with the logps and the labels\n",
    "loss = criterion(logps, labels)\n",
    "\n",
    "print(loss)"
   ]
  },
  {
   "cell_type": "markdown",
   "metadata": {},
   "source": [
    "## Autograd\n",
    "\n",
    "Now that we know how to calculate a loss, how do we use it to perform backpropagation? Torch provides a module, `autograd`, for automatically calculating the gradients of tensors. We can use it to calculate the gradients of all our parameters with respect to the loss. Autograd works by keeping track of operations performed on tensors, then going backwards through those operations, calculating gradients along the way. To make sure PyTorch keeps track of operations on a tensor and calculates the gradients, you need to set `requires_grad = True` on a tensor. You can do this at creation with the `requires_grad` keyword, or at any time with `x.requires_grad_(True)`.\n",
    "\n",
    "You can turn off gradients for a block of code with the `torch.no_grad()` content:\n",
    "```python\n",
    "x = torch.zeros(1, requires_grad=True)\n",
    ">>> with torch.no_grad():\n",
    "...     y = x * 2\n",
    ">>> y.requires_grad\n",
    "False\n",
    "```\n",
    "\n",
    "Also, you can turn on or off gradients altogether with `torch.set_grad_enabled(True|False)`.\n",
    "\n",
    "The gradients are computed with respect to some variable `z` with `z.backward()`. This does a backward pass through the operations that created `z`."
   ]
  },
  {
   "cell_type": "code",
   "execution_count": 53,
   "metadata": {},
   "outputs": [
    {
     "name": "stdout",
     "output_type": "stream",
     "text": [
      "tensor([[-0.5308, -2.6659],\n",
      "        [-1.9147, -1.0825]], requires_grad=True)\n"
     ]
    }
   ],
   "source": [
    "x = torch.randn(2,2, requires_grad=True)\n",
    "print(x)"
   ]
  },
  {
   "cell_type": "code",
   "execution_count": 54,
   "metadata": {},
   "outputs": [
    {
     "name": "stdout",
     "output_type": "stream",
     "text": [
      "tensor([[0.2817, 7.1069],\n",
      "        [3.6660, 1.1718]], grad_fn=<PowBackward0>)\n"
     ]
    }
   ],
   "source": [
    "y = x**2\n",
    "print(y)"
   ]
  },
  {
   "cell_type": "markdown",
   "metadata": {},
   "source": [
    "Below we can see the operation that created `y`, a power operation `PowBackward0`."
   ]
  },
  {
   "cell_type": "code",
   "execution_count": 55,
   "metadata": {},
   "outputs": [
    {
     "name": "stdout",
     "output_type": "stream",
     "text": [
      "<PowBackward0 object at 0x0000007FDBC996A0>\n"
     ]
    }
   ],
   "source": [
    "## grad_fn shows the function that generated this variable\n",
    "print(y.grad_fn)"
   ]
  },
  {
   "cell_type": "markdown",
   "metadata": {},
   "source": [
    "The autograd module keeps track of these operations and knows how to calculate the gradient for each one. In this way, it's able to calculate the gradients for a chain of operations, with respect to any one tensor. Let's reduce the tensor `y` to a scalar value, the mean."
   ]
  },
  {
   "cell_type": "code",
   "execution_count": 56,
   "metadata": {},
   "outputs": [
    {
     "name": "stdout",
     "output_type": "stream",
     "text": [
      "tensor(3.0566, grad_fn=<MeanBackward1>)\n"
     ]
    }
   ],
   "source": [
    "z = y.mean()\n",
    "print(z)"
   ]
  },
  {
   "cell_type": "markdown",
   "metadata": {},
   "source": [
    "You can check the gradients for `x` and `y` but they are empty currently."
   ]
  },
  {
   "cell_type": "code",
   "execution_count": 57,
   "metadata": {},
   "outputs": [
    {
     "name": "stdout",
     "output_type": "stream",
     "text": [
      "None\n"
     ]
    }
   ],
   "source": [
    "print(x.grad)"
   ]
  },
  {
   "cell_type": "markdown",
   "metadata": {},
   "source": [
    "To calculate the gradients, you need to run the `.backward` method on a Variable, `z` for example. This will calculate the gradient for `z` with respect to `x`\n",
    "\n",
    "$$\n",
    "\\frac{\\partial z}{\\partial x} = \\frac{\\partial}{\\partial x}\\left[\\frac{1}{n}\\sum_i^n x_i^2\\right] = \\frac{x}{2}\n",
    "$$"
   ]
  },
  {
   "cell_type": "code",
   "execution_count": 58,
   "metadata": {},
   "outputs": [
    {
     "name": "stdout",
     "output_type": "stream",
     "text": [
      "tensor([[-0.2654, -1.3329],\n",
      "        [-0.9573, -0.5413]])\n",
      "tensor([[-0.2654, -1.3329],\n",
      "        [-0.9573, -0.5413]], grad_fn=<DivBackward0>)\n"
     ]
    }
   ],
   "source": [
    "z.backward()\n",
    "print(x.grad)\n",
    "print(x/2)"
   ]
  },
  {
   "cell_type": "markdown",
   "metadata": {},
   "source": [
    "These gradients calculations are particularly useful for neural networks. For training we need the gradients of the weights with respect to the cost. With PyTorch, we run data forward through the network to calculate the loss, then, go backwards to calculate the gradients with respect to the loss. Once we have the gradients we can make a gradient descent step. "
   ]
  },
  {
   "cell_type": "markdown",
   "metadata": {},
   "source": [
    "## Loss and Autograd together\n",
    "\n",
    "When we create a network with PyTorch, all of the parameters are initialized with `requires_grad = True`. This means that when we calculate the loss and call `loss.backward()`, the gradients for the parameters are calculated. These gradients are used to update the weights with gradient descent. Below you can see an example of calculating the gradients using a backwards pass."
   ]
  },
  {
   "cell_type": "code",
   "execution_count": 59,
   "metadata": {},
   "outputs": [],
   "source": [
    "# Build a feed-forward network\n",
    "model = nn.Sequential(nn.Linear(784, 128),\n",
    "                      nn.ReLU(),\n",
    "                      nn.Linear(128, 64),\n",
    "                      nn.ReLU(),\n",
    "                      nn.Linear(64, 10),\n",
    "                      nn.LogSoftmax(dim=1))\n",
    "\n",
    "criterion = nn.NLLLoss()\n",
    "images, labels = next(iter(trainloader))\n",
    "images = images.view(images.shape[0], -1)\n",
    "\n",
    "logps = model(images)\n",
    "loss = criterion(logps, labels)"
   ]
  },
  {
   "cell_type": "code",
   "execution_count": 60,
   "metadata": {},
   "outputs": [
    {
     "name": "stdout",
     "output_type": "stream",
     "text": [
      "Before backward pass: \n",
      " None\n",
      "After backward pass: \n",
      " tensor([[ 0.0030,  0.0030,  0.0030,  ...,  0.0030,  0.0030,  0.0030],\n",
      "        [ 0.0004,  0.0004,  0.0004,  ...,  0.0004,  0.0004,  0.0004],\n",
      "        [-0.0003, -0.0003, -0.0003,  ..., -0.0003, -0.0003, -0.0003],\n",
      "        ...,\n",
      "        [-0.0002, -0.0002, -0.0002,  ..., -0.0002, -0.0002, -0.0002],\n",
      "        [ 0.0036,  0.0036,  0.0036,  ...,  0.0036,  0.0036,  0.0036],\n",
      "        [ 0.0009,  0.0009,  0.0009,  ...,  0.0009,  0.0009,  0.0009]])\n"
     ]
    }
   ],
   "source": [
    "print('Before backward pass: \\n', model[0].weight.grad)\n",
    "\n",
    "loss.backward()\n",
    "\n",
    "print('After backward pass: \\n', model[0].weight.grad)"
   ]
  },
  {
   "cell_type": "markdown",
   "metadata": {},
   "source": [
    "## Training the network!\n",
    "\n",
    "There's one last piece we need to start training, an optimizer that we'll use to update the weights with the gradients. We get these from PyTorch's [`optim` package](https://pytorch.org/docs/stable/optim.html). For example we can use stochastic gradient descent with `optim.SGD`. You can see how to define an optimizer below."
   ]
  },
  {
   "cell_type": "code",
   "execution_count": 61,
   "metadata": {},
   "outputs": [],
   "source": [
    "from torch import optim\n",
    "\n",
    "# Optimizers require the parameters to optimize and a learning rate\n",
    "optimizer = optim.SGD(model.parameters(), lr=0.01)"
   ]
  },
  {
   "cell_type": "markdown",
   "metadata": {},
   "source": [
    "Now we know how to use all the individual parts so it's time to see how they work together. Let's consider just one learning step before looping through all the data. The general process with PyTorch:\n",
    "\n",
    "* Make a forward pass through the network \n",
    "* Use the network output to calculate the loss\n",
    "* Perform a backward pass through the network with `loss.backward()` to calculate the gradients\n",
    "* Take a step with the optimizer to update the weights\n",
    "\n",
    "Below I'll go through one training step and print out the weights and gradients so you can see how it changes. Note that I have a line of code `optimizer.zero_grad()`. When you do multiple backwards passes with the same parameters, the gradients are accumulated. This means that you need to zero the gradients on each training pass or you'll retain gradients from previous training batches."
   ]
  },
  {
   "cell_type": "code",
   "execution_count": 62,
   "metadata": {},
   "outputs": [
    {
     "name": "stdout",
     "output_type": "stream",
     "text": [
      "Initial weights -  Parameter containing:\n",
      "tensor([[-0.0026,  0.0056, -0.0335,  ...,  0.0076, -0.0207, -0.0297],\n",
      "        [-0.0264,  0.0060, -0.0136,  ...,  0.0110,  0.0159,  0.0252],\n",
      "        [ 0.0106, -0.0006, -0.0017,  ...,  0.0203, -0.0137, -0.0271],\n",
      "        ...,\n",
      "        [-0.0117,  0.0140, -0.0256,  ..., -0.0011,  0.0262,  0.0180],\n",
      "        [-0.0157, -0.0264, -0.0183,  ..., -0.0189, -0.0002,  0.0115],\n",
      "        [-0.0176,  0.0298, -0.0330,  ..., -0.0253,  0.0301,  0.0345]],\n",
      "       requires_grad=True)\n",
      "Gradient - tensor([[ 1.3275e-03,  1.3275e-03,  1.3275e-03,  ...,  1.3275e-03,\n",
      "          1.3275e-03,  1.3275e-03],\n",
      "        [ 4.5232e-04,  4.5232e-04,  4.5232e-04,  ...,  4.5232e-04,\n",
      "          4.5232e-04,  4.5232e-04],\n",
      "        [-2.5955e-03, -2.5955e-03, -2.5955e-03,  ..., -2.5955e-03,\n",
      "         -2.5955e-03, -2.5955e-03],\n",
      "        ...,\n",
      "        [ 3.6555e-04,  3.6555e-04,  3.6555e-04,  ...,  3.6555e-04,\n",
      "          3.6555e-04,  3.6555e-04],\n",
      "        [ 4.9860e-03,  4.9860e-03,  4.9860e-03,  ...,  4.9860e-03,\n",
      "          4.9860e-03,  4.9860e-03],\n",
      "        [-7.5457e-05, -7.5457e-05, -7.5457e-05,  ..., -7.5457e-05,\n",
      "         -7.5457e-05, -7.5457e-05]])\n"
     ]
    }
   ],
   "source": [
    "print('Initial weights - ', model[0].weight)\n",
    "\n",
    "images, labels = next(iter(trainloader))\n",
    "images.resize_(64, 784)\n",
    "\n",
    "#Gradients accumulate everytime you call them, by default, be sure to call zero.gradient() to avoid that, \n",
    "#because we are not using batch gradient descent and rather mini-batch.\n",
    "optimizer.zero_grad() \n",
    "\n",
    "# Forward pass, then backward pass, then update weights\n",
    "output = model(images)\n",
    "loss = criterion(output, labels)\n",
    "loss.backward()\n",
    "print('Gradient -', model[0].weight.grad)"
   ]
  },
  {
   "cell_type": "code",
   "execution_count": 63,
   "metadata": {},
   "outputs": [
    {
     "name": "stdout",
     "output_type": "stream",
     "text": [
      "Updated weights -  Parameter containing:\n",
      "tensor([[-0.0026,  0.0056, -0.0335,  ...,  0.0076, -0.0207, -0.0297],\n",
      "        [-0.0264,  0.0059, -0.0136,  ...,  0.0110,  0.0159,  0.0252],\n",
      "        [ 0.0106, -0.0006, -0.0017,  ...,  0.0203, -0.0137, -0.0271],\n",
      "        ...,\n",
      "        [-0.0117,  0.0140, -0.0256,  ..., -0.0011,  0.0262,  0.0180],\n",
      "        [-0.0158, -0.0264, -0.0184,  ..., -0.0190, -0.0003,  0.0114],\n",
      "        [-0.0176,  0.0298, -0.0330,  ..., -0.0253,  0.0301,  0.0345]],\n",
      "       requires_grad=True)\n"
     ]
    }
   ],
   "source": [
    "# Take an update step and few the new weights\n",
    "optimizer.step()\n",
    "print('Updated weights - ', model[0].weight)"
   ]
  },
  {
   "cell_type": "markdown",
   "metadata": {},
   "source": [
    "### Training for real\n",
    "\n",
    "Now we'll put this algorithm into a loop so we can go through all the images. Some nomenclature, one pass through the entire dataset is called an *epoch*. So here we're going to loop through `trainloader` to get our training batches. For each batch, we'll doing a training pass where we calculate the loss, do a backwards pass, and update the weights.\n",
    "\n",
    "> **Exercise: ** Implement the training pass for our network. If you implemented it correctly, you should see the training loss drop with each epoch."
   ]
  },
  {
   "cell_type": "code",
   "execution_count": 64,
   "metadata": {},
   "outputs": [
    {
     "name": "stdout",
     "output_type": "stream",
     "text": [
      "Training loss: 1.8436612109385573\n",
      "Training loss: 0.7957064039798688\n",
      "Training loss: 0.5147419887692181\n",
      "Training loss: 0.4280878585030529\n",
      "Training loss: 0.38587512943282054\n"
     ]
    }
   ],
   "source": [
    "model = nn.Sequential(nn.Linear(784, 128),\n",
    "                      nn.ReLU(),\n",
    "                      nn.Linear(128, 64),\n",
    "                      nn.ReLU(),\n",
    "                      nn.Linear(64, 10),\n",
    "                      nn.LogSoftmax(dim=1))\n",
    "\n",
    "criterion = nn.NLLLoss()\n",
    "optimizer = optim.SGD(model.parameters(), lr=0.003)\n",
    "\n",
    "epochs = 5\n",
    "for e in range(epochs):\n",
    "    running_loss = 0\n",
    "    for images, labels in trainloader:\n",
    "        # Flatten MNIST images into a 784 long vector\n",
    "        images = images.view(images.shape[0], -1)\n",
    "    \n",
    "        # TODO: Training pass\n",
    "        optimizer.zero_grad()\n",
    "        \n",
    "        output = model(images)\n",
    "        loss = criterion(output, labels)\n",
    "        loss.backward()\n",
    "        optimizer.step()\n",
    "        \n",
    "        running_loss += loss.item()\n",
    "    else:\n",
    "        print(f\"Training loss: {running_loss/len(trainloader)}\")"
   ]
  },
  {
   "cell_type": "markdown",
   "metadata": {},
   "source": [
    "With the network trained, we can check out it's predictions."
   ]
  },
  {
   "cell_type": "code",
   "execution_count": 71,
   "metadata": {},
   "outputs": [
    {
     "data": {
      "image/png": "[encoded data removed]",
      "text/plain": [
       "<Figure size 432x648 with 2 Axes>"
      ]
     },
     "metadata": {
      "needs_background": "light"
     },
     "output_type": "display_data"
    }
   ],
   "source": [
    "%matplotlib inline\n",
    "import helper\n",
    "\n",
    "images, labels = next(iter(trainloader))\n",
    "\n",
    "img = images[0].view(1, 784)\n",
    "# Turn off gradients to speed up this part\n",
    "with torch.no_grad():\n",
    "    logps = model(img)\n",
    "\n",
    "# Output of the network are log-probabilities, need to take exponential for probabilities\n",
    "ps = torch.exp(logps)\n",
    "helper.view_classify(img.view(1, 28, 28), ps)"
   ]
  },
  {
   "cell_type": "markdown",
   "metadata": {},
   "source": [
    "Now our network is brilliant. It can accurately predict the digits in our images. Next up you'll write the code for training a neural network on a more complex dataset."
   ]
  },
  {
   "cell_type": "code",
   "execution_count": 37,
   "metadata": {},
   "outputs": [],
   "source": [
    "w = list(model.parameters())"
   ]
  },
  {
   "cell_type": "code",
   "execution_count": 69,
   "metadata": {},
   "outputs": [
    {
     "name": "stdout",
     "output_type": "stream",
     "text": [
      "[Parameter containing:\n",
      "tensor([[-0.0288, -0.0302,  0.0154,  ..., -0.0160,  0.0041,  0.0252],\n",
      "        [-0.0130,  0.0011,  0.0074,  ...,  0.0049, -0.0210, -0.0117],\n",
      "        [ 0.0236, -0.0301,  0.0109,  ..., -0.0281,  0.0351, -0.0016],\n",
      "        ...,\n",
      "        [ 0.0053,  0.0192, -0.0231,  ..., -0.0367,  0.0076,  0.0215],\n",
      "        [-0.0183,  0.0003,  0.0198,  ...,  0.0279, -0.0351, -0.0399],\n",
      "        [-0.0329, -0.0181,  0.0127,  ...,  0.0075,  0.0153,  0.0186]],\n",
      "       requires_grad=True), Parameter containing:\n",
      "tensor([-0.0298, -0.0198,  0.0312, -0.0044, -0.0298,  0.0303,  0.0064, -0.0016,\n",
      "        -0.0193, -0.0286, -0.0058, -0.0081, -0.0324, -0.0347,  0.0148,  0.0162,\n",
      "        -0.0202, -0.0293, -0.0304,  0.0339, -0.0153, -0.0021,  0.0374, -0.0219,\n",
      "         0.0047,  0.0289,  0.0340,  0.0037,  0.0338, -0.0234,  0.0365, -0.0047,\n",
      "        -0.0242, -0.0348, -0.0231, -0.0208,  0.0358,  0.0312,  0.0259,  0.0092,\n",
      "         0.0145, -0.0052,  0.0374,  0.0260,  0.0071,  0.0020,  0.0114,  0.0261,\n",
      "        -0.0356,  0.0089, -0.0260, -0.0043, -0.0335, -0.0325,  0.0274,  0.0319,\n",
      "         0.0309,  0.0099, -0.0161, -0.0192, -0.0220,  0.0197, -0.0198,  0.0275,\n",
      "         0.0102,  0.0218, -0.0137, -0.0043,  0.0377, -0.0253, -0.0095,  0.0035,\n",
      "         0.0259,  0.0159, -0.0123, -0.0101,  0.0180,  0.0034, -0.0264, -0.0104,\n",
      "        -0.0225, -0.0138,  0.0118, -0.0354,  0.0063,  0.0184,  0.0336,  0.0123,\n",
      "         0.0071,  0.0167, -0.0206,  0.0024, -0.0101, -0.0277, -0.0293, -0.0152,\n",
      "         0.0018, -0.0350, -0.0291, -0.0078,  0.0349,  0.0068, -0.0122,  0.0278,\n",
      "        -0.0350,  0.0358, -0.0317,  0.0049, -0.0092, -0.0210,  0.0281,  0.0347,\n",
      "         0.0140,  0.0002,  0.0144, -0.0290, -0.0249,  0.0201, -0.0160, -0.0043,\n",
      "        -0.0067,  0.0102, -0.0073, -0.0134, -0.0001, -0.0088,  0.0311, -0.0294],\n",
      "       requires_grad=True), Parameter containing:\n",
      "tensor([[ 0.0183,  0.0476, -0.0827,  ...,  0.0645, -0.0904,  0.0719],\n",
      "        [-0.0466, -0.0450,  0.0807,  ...,  0.0899,  0.0820, -0.0117],\n",
      "        [-0.0525,  0.0039, -0.0365,  ..., -0.0382,  0.0281, -0.0542],\n",
      "        ...,\n",
      "        [-0.0228, -0.0413,  0.0544,  ...,  0.0718,  0.0098,  0.0460],\n",
      "        [-0.0638, -0.0474, -0.0583,  ...,  0.1582,  0.0079,  0.0073],\n",
      "        [ 0.0474,  0.0552, -0.0004,  ...,  0.1095,  0.0790, -0.0419]],\n",
      "       requires_grad=True), Parameter containing:\n",
      "tensor([ 0.0299,  0.0635,  0.0907,  0.0416, -0.0600,  0.0307, -0.0473, -0.0710,\n",
      "         0.0169, -0.0836,  0.0368, -0.0456,  0.0331,  0.0705, -0.0689, -0.0318,\n",
      "        -0.0229, -0.0330,  0.0619, -0.0292,  0.0940,  0.0263,  0.0464, -0.0456,\n",
      "        -0.0366,  0.0638,  0.0176,  0.0248, -0.0729,  0.0104,  0.0780, -0.0738,\n",
      "         0.0584, -0.0234,  0.0505, -0.0750, -0.0095,  0.0176, -0.0714, -0.0490,\n",
      "         0.0561,  0.0687,  0.0732,  0.0342,  0.0440, -0.0408, -0.0852,  0.0040,\n",
      "         0.0222, -0.0031,  0.0308,  0.0490, -0.0173, -0.0127, -0.0207, -0.0542,\n",
      "        -0.0468, -0.0168, -0.0582,  0.0780, -0.0304, -0.0084, -0.0727,  0.0468],\n",
      "       requires_grad=True), Parameter containing:\n",
      "tensor([[ 1.7257e-01,  8.9927e-02, -3.3823e-02, -1.3394e-02,  1.4630e-01,\n",
      "         -5.6906e-03,  3.4527e-02, -1.8532e-01, -1.2001e-01,  2.9761e-02,\n",
      "          3.0140e-01, -2.5945e-02,  1.5350e-01, -1.3059e-01, -2.9290e-01,\n",
      "         -2.1481e-02, -2.0197e-01,  8.7577e-02, -3.0960e-02,  7.0534e-02,\n",
      "          2.7267e-01, -4.5268e-02,  5.7472e-02, -1.5048e-01, -8.1172e-02,\n",
      "          1.8910e-01,  9.0568e-03,  1.2685e-01,  1.9902e-01, -2.5825e-01,\n",
      "         -1.1158e-01, -2.2406e-02,  1.4621e-01, -5.9152e-02,  1.1618e-01,\n",
      "         -2.2154e-02, -4.1545e-02, -9.3038e-02, -8.7674e-03,  6.7248e-02,\n",
      "          5.6059e-03,  5.1007e-02, -1.7103e-01,  1.2228e-01, -1.0556e-01,\n",
      "         -9.1370e-02, -1.0860e-01,  2.3886e-01,  9.4644e-02,  1.5650e-01,\n",
      "         -3.9927e-03, -2.1738e-01,  3.7482e-02, -1.2198e-01,  3.1428e-01,\n",
      "         -6.3392e-02, -1.5851e-01,  1.7733e-03, -2.4671e-01, -1.5761e-01,\n",
      "          5.9028e-02, -1.9670e-01,  9.3854e-02,  5.6876e-02],\n",
      "        [-2.0506e-02,  7.5853e-04, -1.4014e-01,  1.2597e-01, -2.2934e-01,\n",
      "          4.5511e-02, -1.7074e-01,  2.6295e-02, -7.3157e-02,  2.1181e-02,\n",
      "         -1.1382e-01,  2.4343e-02,  4.0851e-02,  6.3979e-02,  7.4684e-02,\n",
      "         -1.0769e-01, -1.6733e-01,  3.2628e-02,  7.8431e-02, -3.1852e-01,\n",
      "         -2.4082e-01,  7.1085e-02,  1.3813e-01,  5.6506e-02, -4.2573e-03,\n",
      "          1.2996e-01,  1.5111e-01, -3.2066e-02,  1.2441e-02,  2.3770e-01,\n",
      "         -1.3421e-01,  1.4572e-02, -2.1926e-01,  1.9342e-01, -3.7443e-02,\n",
      "          1.1309e-01, -2.2862e-01,  2.2186e-01, -1.2697e-01, -2.3535e-01,\n",
      "          3.6040e-02, -9.7649e-02,  1.4486e-01, -9.5607e-02, -4.4302e-02,\n",
      "          1.0677e-01,  5.5874e-02,  1.4746e-01, -1.5932e-01, -1.9511e-01,\n",
      "         -3.3072e-02,  1.7936e-01,  1.9354e-01, -8.3226e-02, -3.8334e-02,\n",
      "         -1.5975e-01,  8.2110e-02, -2.6128e-02,  3.1115e-01,  4.1702e-02,\n",
      "          1.0529e-01, -1.7672e-02, -1.4441e-01, -1.0112e-01],\n",
      "        [ 1.5074e-01,  6.9587e-02,  5.2597e-02, -2.5733e-02,  1.7639e-01,\n",
      "         -1.0083e-01,  1.1840e-01,  6.5705e-02, -1.8609e-01,  1.0558e-01,\n",
      "         -3.2957e-02, -9.8508e-02,  1.7185e-02, -1.2564e-01,  1.8747e-01,\n",
      "         -2.2783e-01, -2.2418e-01,  1.6987e-01,  1.4446e-01,  7.0378e-02,\n",
      "         -1.1197e-01, -1.7936e-01, -7.1783e-02,  8.8249e-02, -1.0156e-02,\n",
      "         -6.0172e-02,  5.0727e-02, -8.8734e-02,  1.7600e-01, -1.9301e-01,\n",
      "         -1.6823e-01,  1.2252e-01, -1.7104e-01, -1.4093e-01,  5.6457e-02,\n",
      "          1.4477e-02,  1.9876e-01, -5.6486e-02, -2.8175e-01,  2.0023e-02,\n",
      "         -9.0506e-02,  5.2411e-02,  2.4121e-01, -5.0886e-02, -9.9671e-02,\n",
      "          1.1161e-01, -1.1791e-01,  1.4033e-01, -4.9662e-02,  8.6703e-03,\n",
      "          8.2659e-02,  2.3725e-01, -4.4704e-02, -6.9188e-03, -4.3608e-02,\n",
      "          1.8428e-01, -6.7152e-02,  5.3106e-02, -5.4942e-02,  2.2379e-01,\n",
      "          1.2807e-01, -7.1658e-02,  2.2797e-01,  9.8254e-02],\n",
      "        [-5.4210e-02,  8.9874e-02, -1.7989e-01,  3.2223e-02,  2.7883e-01,\n",
      "          5.8800e-02,  3.9009e-03,  3.2484e-02, -5.3703e-02, -1.4321e-02,\n",
      "          4.6852e-02,  1.1150e-01, -4.2121e-02,  6.5630e-03,  2.1506e-01,\n",
      "         -1.8440e-01,  1.6286e-02, -1.1667e-01, -1.3413e-01, -1.5841e-01,\n",
      "         -3.4752e-02, -2.7461e-01,  9.9564e-02,  1.2220e-01,  1.0159e-01,\n",
      "          1.1843e-01,  2.9938e-01, -1.4019e-01, -1.2738e-01,  1.1458e-01,\n",
      "          3.6105e-02, -1.8648e-01,  2.4242e-01, -1.4534e-01,  1.2193e-01,\n",
      "         -1.7935e-01,  5.8182e-02, -7.9192e-03, -1.4446e-01, -1.3919e-01,\n",
      "         -5.3142e-02, -9.0185e-02,  4.5619e-02, -1.0117e-01,  4.7252e-02,\n",
      "          7.2773e-02,  9.7890e-02, -6.9361e-02,  2.1495e-01,  1.2881e-01,\n",
      "         -1.0852e-01,  2.7195e-01,  1.4003e-01,  4.3353e-02, -2.1936e-03,\n",
      "          3.1467e-02, -5.6402e-02, -1.3612e-01, -2.1055e-01,  1.8468e-01,\n",
      "          6.0234e-02,  1.3076e-01, -2.2574e-01,  1.5626e-01],\n",
      "        [-3.1797e-01,  3.4138e-01, -1.0169e-01, -9.0533e-02, -3.1497e-01,\n",
      "         -7.1279e-02,  1.2523e-01,  4.7097e-02,  1.4070e-01,  9.3081e-02,\n",
      "          2.4764e-02, -1.7029e-01, -4.5492e-02,  1.0759e-01,  7.7321e-02,\n",
      "          1.9198e-01,  9.6427e-02,  9.8915e-02, -5.4757e-02,  1.1570e-01,\n",
      "         -3.8799e-02,  1.8869e-01, -2.5970e-01,  1.6911e-01,  1.2961e-02,\n",
      "          8.1314e-02, -7.7336e-02, -2.4544e-02,  9.4064e-02,  1.7584e-01,\n",
      "          6.8458e-02, -7.7794e-02,  5.1489e-02, -1.9224e-03,  1.8097e-02,\n",
      "         -4.0801e-02, -8.4544e-02,  2.3514e-02,  1.1922e-01,  8.9374e-02,\n",
      "          2.2119e-01, -1.1363e-01,  7.8423e-02,  7.5420e-02, -1.1114e-01,\n",
      "         -3.6085e-02,  1.7828e-02, -1.7846e-01, -1.2648e-01, -3.4857e-02,\n",
      "          1.3445e-01, -2.1047e-01, -1.7706e-01,  5.6779e-02, -1.6048e-01,\n",
      "          1.0013e-01, -7.0916e-02, -1.2909e-01, -2.2195e-02,  8.5816e-03,\n",
      "          1.3355e-01,  5.1672e-02,  2.0816e-01,  2.1444e-01],\n",
      "        [ 9.6000e-02,  1.7409e-01,  3.3201e-02, -3.6193e-02,  1.0953e-01,\n",
      "         -1.4549e-02, -2.5169e-02, -2.3829e-01,  1.9577e-01,  4.7767e-02,\n",
      "         -1.2598e-02,  2.3392e-01,  7.5876e-02, -7.1417e-02, -1.2795e-01,\n",
      "          5.8194e-02, -2.2672e-02, -1.1276e-01, -2.2151e-01,  5.9652e-02,\n",
      "         -8.5945e-02, -9.5555e-02,  2.3592e-01,  8.9900e-03,  9.0888e-02,\n",
      "         -7.5955e-03, -1.2713e-01,  1.3522e-01,  8.3481e-02,  1.3724e-01,\n",
      "          4.4795e-02, -1.1447e-01,  9.8080e-02, -1.2275e-01, -4.4509e-03,\n",
      "         -1.3505e-02,  4.9958e-02, -9.5253e-02,  1.3190e-01,  4.1290e-02,\n",
      "          1.7768e-01,  2.5722e-02,  6.2490e-02, -1.0817e-02,  1.0024e-01,\n",
      "          1.1888e-02, -6.4525e-02,  1.6109e-01,  9.9870e-02,  1.2957e-01,\n",
      "         -1.8336e-03, -1.7164e-01,  6.4828e-02,  9.1930e-02,  1.7343e-01,\n",
      "          5.1258e-02, -1.4628e-01, -1.1211e-01,  2.2051e-01, -3.4039e-02,\n",
      "          5.8159e-02, -4.2493e-02, -1.8030e-01, -2.9705e-02],\n",
      "        [ 2.0211e-01, -1.0108e-01, -7.1012e-02,  2.7889e-02, -2.4834e-01,\n",
      "          9.5452e-02,  3.3379e-01,  7.8748e-02,  1.5683e-01,  9.7418e-02,\n",
      "         -9.7926e-02,  1.2835e-01, -1.7197e-01, -4.2207e-02, -2.1360e-01,\n",
      "          4.5419e-02, -2.5712e-01,  9.7853e-02, -1.7711e-01,  6.9998e-02,\n",
      "         -9.7763e-03, -3.7123e-02, -3.8934e-02,  2.0773e-02,  5.9183e-02,\n",
      "         -4.7134e-02, -2.7750e-02,  1.1570e-01,  1.6708e-01,  2.0000e-01,\n",
      "          2.2628e-01,  1.6323e-02, -1.9077e-01, -6.9520e-02,  5.1031e-02,\n",
      "         -3.5855e-02, -1.5058e-01,  1.1854e-01,  1.0942e-01, -1.9868e-01,\n",
      "          1.0863e-01, -7.9648e-02, -5.6197e-02,  9.5343e-02,  1.9902e-02,\n",
      "          2.8739e-02, -5.1917e-03, -3.7827e-02, -8.7455e-02, -8.0950e-02,\n",
      "         -1.2093e-01, -4.9033e-02, -2.1168e-01, -9.7982e-02, -9.3980e-02,\n",
      "          7.0568e-02, -1.9021e-01,  3.4455e-01, -7.9753e-02,  1.0853e-01,\n",
      "          2.1908e-01, -1.4638e-01,  3.0488e-01,  1.5038e-01],\n",
      "        [-1.7081e-01, -2.1493e-01, -2.9825e-02, -3.4873e-02,  8.4748e-02,\n",
      "         -1.9730e-02, -1.3305e-01,  2.1332e-01, -4.0460e-02,  2.2414e-03,\n",
      "         -1.1427e-01, -1.3212e-01, -4.4184e-02,  1.4085e-01,  1.4338e-01,\n",
      "         -6.9503e-02,  1.0529e-01, -1.1676e-01,  2.3573e-01,  1.8240e-01,\n",
      "          3.5230e-01, -6.5448e-02,  1.7062e-01,  2.2676e-01, -1.0998e-01,\n",
      "         -4.6131e-02, -1.9175e-02,  1.2944e-01,  1.0625e-01, -1.5460e-01,\n",
      "         -1.9967e-01, -1.2906e-01, -5.0865e-03,  1.7042e-01, -4.4205e-02,\n",
      "          4.0226e-02, -1.3708e-01,  1.3815e-01, -2.9985e-02,  1.1849e-01,\n",
      "          1.3247e-01, -6.0942e-02, -8.7129e-02, -7.5178e-02, -2.0071e-02,\n",
      "          3.3453e-02,  1.9762e-02, -2.6877e-01,  6.2653e-02, -2.0971e-01,\n",
      "         -1.4213e-01, -1.2792e-01,  2.2032e-02, -5.5480e-02,  2.2528e-01,\n",
      "         -3.0912e-02,  2.0194e-01, -3.2445e-01, -8.6515e-02,  1.3174e-01,\n",
      "         -1.6987e-01, -6.2988e-02, -1.4288e-01, -1.9557e-01],\n",
      "        [ 4.5725e-02, -1.3237e-01,  1.8377e-01,  4.7685e-02,  1.2041e-01,\n",
      "         -7.1883e-02, -1.4437e-01, -2.2646e-01, -2.7069e-04,  7.6823e-02,\n",
      "          8.8628e-02, -1.6732e-02, -1.4980e-01,  2.1136e-01,  1.5662e-01,\n",
      "          1.5419e-01, -7.1990e-02,  1.5560e-01, -2.6500e-02,  1.0724e-01,\n",
      "         -2.9120e-01,  2.2613e-02,  1.7283e-02, -1.1535e-01, -8.3388e-02,\n",
      "          1.1593e-03,  1.0815e-01, -1.7073e-02, -1.4033e-01, -1.8068e-01,\n",
      "          1.2784e-01,  2.9435e-03,  1.6576e-01,  1.2828e-01, -1.5625e-01,\n",
      "         -7.2632e-02,  2.2104e-01, -1.7370e-01,  1.2635e-01, -1.0961e-01,\n",
      "         -1.3500e-02,  5.6559e-02, -1.0310e-01,  8.0219e-02, -1.0239e-01,\n",
      "          9.0972e-03, -4.0393e-02,  5.9180e-02, -1.9087e-01,  1.2017e-01,\n",
      "          1.5490e-01,  1.6522e-02,  9.8296e-02,  1.0954e-01, -1.1636e-01,\n",
      "          5.5861e-02,  1.7772e-01,  1.6194e-01,  1.9468e-01, -1.6324e-01,\n",
      "         -1.0401e-01, -9.9755e-02, -5.0257e-02, -4.3580e-02],\n",
      "        [-2.6197e-01,  1.8053e-01, -6.8775e-03,  1.1473e-01,  4.4064e-02,\n",
      "         -6.6505e-02, -6.3855e-02,  7.0408e-02,  4.6983e-02, -1.5939e-02,\n",
      "          7.3842e-02,  9.2745e-02,  2.3037e-01, -9.9617e-02,  1.1872e-01,\n",
      "         -1.4357e-01,  2.7401e-01, -6.0769e-02,  1.6227e-02,  1.9185e-01,\n",
      "         -4.6774e-02, -6.5990e-02, -3.0421e-03, -5.8628e-02, -2.0839e-03,\n",
      "          5.3172e-02, -2.1436e-01, -7.4328e-02, -6.9651e-02,  7.2592e-02,\n",
      "          2.0319e-03,  1.5425e-01,  9.0105e-02,  2.4576e-01, -4.3751e-02,\n",
      "          8.9283e-03, -1.4441e-01,  1.2120e-01,  8.2882e-02,  2.5008e-01,\n",
      "         -6.1815e-03,  5.9978e-02, -2.1672e-02,  1.0385e-01, -3.2917e-02,\n",
      "         -1.1246e-01,  6.7012e-03, -2.5749e-01, -3.0179e-02, -7.8133e-02,\n",
      "          6.0056e-02,  6.3685e-02,  5.2023e-02,  1.7116e-02, -1.3755e-01,\n",
      "          9.8410e-02,  1.2829e-01, -2.9448e-02, -1.4594e-01, -2.2596e-01,\n",
      "         -4.1986e-02,  1.0222e-01,  8.1604e-02, -1.2106e-01]],\n",
      "       requires_grad=True), Parameter containing:\n",
      "tensor([ 0.1072,  0.0773, -0.0026, -0.0274, -0.0354,  0.1033,  0.0612,  0.0064,\n",
      "        -0.0734,  0.0450], requires_grad=True)]\n"
     ]
    }
   ],
   "source": [
    "print(w)"
   ]
  },
  {
   "cell_type": "code",
   "execution_count": null,
   "metadata": {},
   "outputs": [],
   "source": []
  }
 ],
 "metadata": {
  "kernelspec": {
   "display_name": "Python 3",
   "language": "python",
   "name": "python3"
  },
  "language_info": {
   "codemirror_mode": {
    "name": "ipython",
    "version": 3
   },
   "file_extension": ".py",
   "mimetype": "text/x-python",
   "name": "python",
   "nbconvert_exporter": "python",
   "pygments_lexer": "ipython3",
   "version": "3.6.8"
  }
 },
 "nbformat": 4,
 "nbformat_minor": 2
}
