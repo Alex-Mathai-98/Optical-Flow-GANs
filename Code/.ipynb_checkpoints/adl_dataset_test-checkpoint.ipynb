{
 "cells": [
  {
   "cell_type": "code",
   "execution_count": 1,
   "metadata": {},
   "outputs": [],
   "source": [
    "import torch\n",
    "import numpy as np\n",
    "import cv2\n",
    "import h5py\n",
    "import pickle"
   ]
  },
  {
   "cell_type": "code",
   "execution_count": 2,
   "metadata": {},
   "outputs": [],
   "source": [
    "def convert_polar(l):\n",
    "    '''Cartesian to Polar Co-ordinates. The Radius and Angle is normalized between 0 and 1.\n",
    "    \n",
    "    Arguments:\n",
    "    \n",
    "    l : np.array\n",
    "        Normal numpy array with RGB Pixel values\n",
    "    \n",
    "    Returns:\n",
    "    \n",
    "    hsv : np.array\n",
    "          Array with polar co-ordinates\n",
    "    '''\n",
    "    hsv = np.zeros((l.shape[0], l.shape[1], l.shape[2], 2), dtype=np.float32)\n",
    "    flow_magnitude, flow_angle = cv2.cartToPolar(l[..., 0].astype(np.float32), l[..., 1].astype(np.float32))\n",
    "    nans = np.isnan(flow_magnitude)\n",
    "    if np.any(nans):\n",
    "        nans = np.where(nans)\n",
    "        flow_magnitude[nans] = 0.\n",
    "    hsv[..., 0] = flow_angle/(2.0*np.pi)\n",
    "    hsv[..., 1] = cv2.normalize(flow_magnitude, None, 0, 1, cv2.NORM_MINMAX)\n",
    "    return hsv"
   ]
  },
  {
   "cell_type": "code",
   "execution_count": 3,
   "metadata": {},
   "outputs": [
    {
     "name": "stdout",
     "output_type": "stream",
     "text": [
      "(160, 240, 320, 2)\n",
      "(290, 240, 320, 2)\n",
      "(345, 240, 320, 2)\n",
      "(401, 240, 320, 2)\n",
      "(456, 240, 320, 2)\n",
      "(556, 240, 320, 2)\n",
      "(612, 240, 320, 2)\n",
      "(673, 240, 320, 2)\n",
      "(888, 240, 320, 2)\n",
      "(983, 240, 320, 2)\n",
      "(1093, 240, 320, 2)\n",
      "(1223, 240, 320, 2)\n",
      "(1353, 240, 320, 2)\n",
      "(1449, 240, 320, 2)\n",
      "(1510, 240, 320, 2)\n",
      "(1670, 240, 320, 2)\n",
      "(1826, 240, 320, 2)\n",
      "(1918, 240, 320, 2)\n",
      "(2048, 240, 320, 2)\n",
      "(2139, 240, 320, 2)\n",
      "(2249, 240, 320, 2)\n",
      "(2349, 240, 320, 2)\n",
      "(2404, 240, 320, 2)\n",
      "(2469, 240, 320, 2)\n",
      "(2539, 240, 320, 2)\n",
      "(2599, 240, 320, 2)\n",
      "(2699, 240, 320, 2)\n",
      "(2784, 240, 320, 2)\n",
      "(2940, 240, 320, 2)\n",
      "(3011, 240, 320, 2)\n",
      "(3071, 240, 320, 2)\n",
      "(3222, 240, 320, 2)\n",
      "(3321, 240, 320, 2)\n",
      "(3431, 240, 320, 2)\n",
      "(3497, 240, 320, 2)\n",
      "(3567, 240, 320, 2)\n",
      "(3652, 240, 320, 2)\n",
      "(3713, 240, 320, 2)\n",
      "(3804, 240, 320, 2)\n",
      "(3875, 240, 320, 2)\n",
      "(3930, 240, 320, 2)\n",
      "(4115, 240, 320, 2)\n",
      "(4211, 240, 320, 2)\n",
      "(4296, 240, 320, 2)\n",
      "(4362, 240, 320, 2)\n",
      "(4454, 240, 320, 2)\n",
      "(4564, 240, 320, 2)\n",
      "(4674, 240, 320, 2)\n",
      "(4735, 240, 320, 2)\n",
      "(4951, 240, 320, 2)\n",
      "(5061, 240, 320, 2)\n",
      "(5126, 240, 320, 2)\n",
      "(5221, 240, 320, 2)\n",
      "(5296, 240, 320, 2)\n",
      "(5395, 240, 320, 2)\n",
      "(5546, 240, 320, 2)\n",
      "(5631, 240, 320, 2)\n",
      "(5816, 240, 320, 2)\n",
      "(5916, 240, 320, 2)\n"
     ]
    }
   ],
   "source": [
    "# Creating the combined numpy array for hdf5 files\n",
    "size = []\n",
    "for i in range(60):\n",
    "    x = np.load(f'./test_data/test{i}.npy')\n",
    "    temp = convert_polar(x)\n",
    "    if i==0:\n",
    "        l = temp\n",
    "    else:\n",
    "        print(l.shape)\n",
    "        l = np.concatenate([l,temp],axis=0)\n",
    "    size.append(x.shape[0])"
   ]
  },
  {
   "cell_type": "code",
   "execution_count": 4,
   "metadata": {},
   "outputs": [],
   "source": [
    "with h5py.File('adl_dataset_test.hdf5', 'w') as f:\n",
    "    dset = f.create_dataset(\"default\", data=l)"
   ]
  },
  {
   "cell_type": "code",
   "execution_count": 5,
   "metadata": {},
   "outputs": [],
   "source": [
    "index = []\n",
    "count=0\n",
    "for s in size:\n",
    "    for i in range(s-9):\n",
    "        index.append(count+i)\n",
    "    count=index[-1]+10"
   ]
  },
  {
   "cell_type": "code",
   "execution_count": 6,
   "metadata": {},
   "outputs": [],
   "source": [
    "with open(\"adl_indices_test.pkl\",\"wb\") as f:\n",
    "    pickle.dump(index, f)"
   ]
  },
  {
   "cell_type": "code",
   "execution_count": 7,
   "metadata": {},
   "outputs": [],
   "source": [
    "l = None\n",
    "dset = None\n",
    "index = None"
   ]
  }
 ],
 "metadata": {
  "kernelspec": {
   "display_name": "Python 3",
   "language": "python",
   "name": "python3"
  },
  "language_info": {
   "codemirror_mode": {
    "name": "ipython",
    "version": 3
   },
   "file_extension": ".py",
   "mimetype": "text/x-python",
   "name": "python",
   "nbconvert_exporter": "python",
   "pygments_lexer": "ipython3",
   "version": "3.6.8"
  }
 },
 "nbformat": 4,
 "nbformat_minor": 2
}
